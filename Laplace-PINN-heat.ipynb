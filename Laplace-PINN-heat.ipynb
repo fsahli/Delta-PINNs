{
 "cells": [
  {
   "cell_type": "markdown",
   "metadata": {},
   "source": [
    "## Code for example 3.2 in the paper"
   ]
  },
  {
   "cell_type": "code",
   "execution_count": 1,
   "metadata": {},
   "outputs": [],
   "source": [
    "from jaxpinns.base import PINN\n",
    "%load_ext autoreload\n",
    "%autoreload 2\n",
    "import numpy as onp\n",
    "import jax.numpy as np\n",
    "from jax import random, vmap\n",
    "from jax.config import config\n",
    "from scipy.linalg import eigh\n",
    "config.update(\"jax_enable_x64\", True)\n",
    "\n",
    "from scipy.optimize import minimize\n",
    "from pyDOE import lhs\n",
    "import matplotlib.pyplot as plt\n",
    "from matplotlib import rc\n",
    "\n",
    "from jax import random, grad, jit, vmap\n",
    "from jax.tree_util import Partial as partial\n",
    "from jax.ops import segment_sum\n",
    "import jax\n",
    "from jax.scipy.optimize import minimize\n",
    "import numpy as onp\n",
    "#from jax.experimental import optimizers\n",
    "\n",
    "from Mesh import Mesh\n",
    "import igl\n",
    "\n",
    "import jax.numpy as np\n",
    "from jax import random, grad, vmap, jvp\n",
    "\n",
    "from jaxpinns.samplers import Sampler\n",
    "from jax.example_libraries import optimizers\n",
    "\n",
    "\n",
    "from jaxpinns.architectures import MLP\n",
    "from jaxpinns.optimizers import adam\n",
    "from jaxpinns.loggers import logger\n",
    "\n",
    "import matplotlib.pyplot as plt\n",
    "\n",
    "from torch.utils import data\n",
    "\n",
    "from scipy.sparse.linalg import spsolve\n",
    "\n",
    "\n",
    "onp.random.seed(1234)\n",
    "rng_key = random.PRNGKey(0)\n",
    "\n",
    "import time\n",
    "import meshio\n",
    "\n",
    "import igl"
   ]
  },
  {
   "cell_type": "code",
   "execution_count": 2,
   "metadata": {},
   "outputs": [],
   "source": [
    "mvtu = meshio.read('data/convection000000.vtu')\n",
    "\n",
    "verts = mvtu.points\n",
    "connectivity = mvtu.cells_dict['triangle']"
   ]
  },
  {
   "cell_type": "code",
   "execution_count": 3,
   "metadata": {},
   "outputs": [
    {
     "name": "stdout",
     "output_type": "stream",
     "text": [
      "Computing Laplacian\n",
      "Computing eigen values\n"
     ]
    }
   ],
   "source": [
    "m = Mesh(verts = verts, connectivity = connectivity)\n",
    "\n",
    "print('Computing Laplacian')\n",
    "K, M = m.computeLaplacian()\n",
    "print('Computing eigen values')\n",
    "eigvals, eigvecs = eigh(K,M)"
   ]
  },
  {
   "cell_type": "code",
   "execution_count": 4,
   "metadata": {},
   "outputs": [],
   "source": [
    "Kigl = igl.cotmatrix(m.verts, m.connectivity.astype(int))\n",
    "Migl = igl.massmatrix(m.verts, m.connectivity.astype(int))\n",
    "\n",
    "numlap = Kigl.tolil()"
   ]
  },
  {
   "cell_type": "code",
   "execution_count": 5,
   "metadata": {},
   "outputs": [],
   "source": [
    "class LaplacePINN(PINN):\n",
    "    # Initialize the class\n",
    "    def __init__(self, eigenfuncs, connectivity, mesh_operator, norm_const, mu_X = 0.0, sigma_X = 1.0):\n",
    "        super().__init__(mu_X, sigma_X)\n",
    "\n",
    "        self.eigenfuncs = np.array(eigenfuncs)\n",
    "        self.connectivity = connectivity\n",
    "        self.mesh_operator = mesh_operator\n",
    "        self.Xc = self.eigenfuncs[self.connectivity.flatten(),:]\n",
    "\n",
    "        self.mu_y = norm_const['mu_y']\n",
    "        self.sigma_y = norm_const['sigma_y']\n",
    "        self.num_loss_terms = 2\n",
    "\n",
    "    # Make sure this accepts a single input data-point and returns a scalar!\n",
    "    # Then use vmap to vectorize\n",
    "    def net_u(self, params, x):\n",
    "        inputs = np.stack([x])\n",
    "        u = self.net_apply(params, inputs)\n",
    "        return u[0][0]\n",
    "\n",
    "    def net_r(self, params, x):\n",
    "        u_v = grad(self.net_u, 1)(params, x)*self.sigma_y\n",
    "        return u_v\n",
    "\n",
    "\n",
    "    @partial(jit, static_argnums=(0,))\n",
    "    def loss_u(self, params, batch):\n",
    "        # Fetch data\n",
    "        inputs, targets = batch\n",
    "        X, _, _, _ = inputs\n",
    "        Y, _ = targets\n",
    "        # Evaluate model\n",
    "        u_fn = lambda x: self.net_u(params, x)\n",
    "        u_pred = vmap(u_fn)(X)\n",
    "        # Compute loss\n",
    "        loss_u = np.mean((Y - u_pred)**2)\n",
    "        return loss_u\n",
    "\n",
    "    @partial(jit, static_argnums=(0,))\n",
    "    def loss_r(self, params, batch):\n",
    "        # Fetch data\n",
    "        inputs, targets = batch\n",
    "        _, V_res, vals, segments = inputs # V_x (batch_size, n_eig, 3), V_xx: (batch_size, n_eig)\n",
    "        _, Y_res = targets\n",
    "\n",
    "        u_res = vmap(self.net_u, in_axes=(None,0))(params, V_res)*self.sigma_y + self.mu_y\n",
    "\n",
    "        res = segment_sum(u_res*vals, segments, 30)\n",
    "\n",
    "        # Compute loss\n",
    "        loss_r = np.sum(res**2)/(segments[-1] + 1)\n",
    "        return loss_r\n",
    "\n",
    "    def loss(self, params, batch, weights=(1.0,1.0)):\n",
    "        w_u, w_r = weights\n",
    "        loss_u = self.loss_u(params, batch)\n",
    "        loss_r = self.loss_r(params, batch)\n",
    "        loss = w_u*loss_u + w_r*loss_r\n",
    "        return loss\n",
    "\n",
    "    # Evaluates predictions at test points\n",
    "    @partial(jit, static_argnums=(0,))\n",
    "    def predict(self, params, X_star):\n",
    "        X_star = (X_star - self.mu_X) / self.sigma_X\n",
    "        u_fn = lambda x: self.net_u(params, x)\n",
    "        u_star = vmap(u_fn)(X_star)\n",
    "        return u_star\n",
    "\n",
    " \n",
    "\n",
    "class LaplacePINNGenerator(data.Dataset):\n",
    "    def __init__(self, V, Y, Vc, numlap, idx_c,\n",
    "                 batch_size=1, rng_key=random.PRNGKey(1234)):\n",
    "        'Initialization'\n",
    "        self.V = V\n",
    "        self.Y = Y\n",
    "        self.Vc = Vc #all the eigenfunctions \n",
    "        self.numlap = numlap #numerical laplacian\n",
    "        self.idx_c = idx_c # list of all the collocation nodes\n",
    "        self.key = rng_key\n",
    "        self.batch_size = batch_size\n",
    "\n",
    "    def __getitem__(self, index):\n",
    "        'Generate one batch of data'\n",
    "        self.key, subkey = random.split(self.key)\n",
    "        inputs, targets = self.__data_generation(subkey)\n",
    "        return inputs, targets\n",
    "\n",
    " #   @partial(jit, static_argnums=(0,))\n",
    "    def __data_generation(self, key):\n",
    "        'Generates data containing batch_size samples'\n",
    "        idx = random.choice(key, self.V.shape[0], (self.batch_size,), replace = False)\n",
    "        idx_e = random.choice(key, self.idx_c, (self.batch_size,), replace = False)\n",
    "\n",
    "        nodes = []\n",
    "        vals = []\n",
    "        segments = []\n",
    "        # this is needed to perform sparse matrix multiplication in JAX with the function segment_sum\n",
    "        for i, a in enumerate(idx_e):\n",
    "            nodes += self.numlap.rows[a]\n",
    "            vals += self.numlap.data[a]\n",
    "            segments += [i]*len(self.numlap.rows[a])\n",
    "\n",
    "        # Make inputs, outputs\n",
    "        inputs  = (self.V[idx], self.Vc[nodes], np.array(vals), np.array(segments))\n",
    "        outputs = (self.Y[idx], np.zeros((self.batch_size,1)))\n",
    "        return inputs, outputs"
   ]
  },
  {
   "cell_type": "code",
   "execution_count": 6,
   "metadata": {},
   "outputs": [],
   "source": [
    "n_nodes = m.verts.shape[0]\n",
    "N = n_nodes\n",
    "rng_key, subkey = random.split(rng_key)\n",
    "idx_train = random.choice(random.PRNGKey(30), n_nodes, (N,), replace = False)\n"
   ]
  },
  {
   "cell_type": "code",
   "execution_count": 8,
   "metadata": {},
   "outputs": [],
   "source": [
    "# retrieve the boundary points\n",
    "\n",
    "data_int = np.load('data/heat_interp_data.npz')\n",
    "\n",
    "boundary_points = data_int['points']\n",
    "sfun = data_int['sfun']\n",
    "\n",
    "from scipy.spatial import cKDTree\n",
    "\n",
    "tree = cKDTree(m.verts[:,:2])\n",
    "\n",
    "_, idx_boundary = tree.query(boundary_points)\n",
    "\n",
    "boundary_mask = onp.ones(n_nodes).astype(bool)\n",
    "\n",
    "boundary_mask[idx_boundary] = False"
   ]
  },
  {
   "cell_type": "code",
   "execution_count": 9,
   "metadata": {},
   "outputs": [],
   "source": [
    "n_eigs = 50\n",
    "\n",
    "eigpairs = (np.array(eigvals[:n_eigs]), np.array(eigvecs[:,:n_eigs]).T)\n",
    "eigfuncs = eigvecs[:,:n_eigs]\n",
    "\n",
    "n_nodes = eigpairs[1].shape[1]\n",
    "coords = m.verts\n",
    "\n",
    "Y_true = np.array(mvtu.point_data['f_937'])\n",
    "\n",
    "\n",
    "\n",
    "idx_c = np.where(boundary_mask)[0]\n",
    "\n",
    "Y = Y_true[~boundary_mask]\n",
    "\n",
    "V = eigfuncs[~boundary_mask]\n",
    "\n",
    "\n",
    "sigma_y = Y.std()\n",
    "mu_y = Y.mean()\n",
    "Y = (Y - mu_y)/sigma_y\n",
    "\n",
    "norm_const = {'mu_y': mu_y, 'sigma_y': sigma_y}\n",
    "\n",
    "Bs = []\n",
    "\n",
    "for e in range(m.connectivity.shape[0]):\n",
    "    B, J = m.Bmatrix(e)\n",
    "    Bs.append(np.dot(B.T, B)/J**2)\n",
    "\n",
    "Bs = np.array(Bs)\n",
    "\n",
    "\n"
   ]
  },
  {
   "cell_type": "code",
   "execution_count": 10,
   "metadata": {},
   "outputs": [],
   "source": [
    "dataset = LaplacePINNGenerator(np.array(V), np.array(Y), eigfuncs, numlap, idx_c, batch_size=30)"
   ]
  },
  {
   "cell_type": "code",
   "execution_count": 11,
   "metadata": {},
   "outputs": [],
   "source": [
    "model = LaplacePINN(eigfuncs, m.connectivity, Bs, norm_const)\n"
   ]
  },
  {
   "cell_type": "code",
   "execution_count": 12,
   "metadata": {},
   "outputs": [],
   "source": [
    "# Setup architecture\n",
    "init_key = random.PRNGKey(0)\n",
    "layers = [n_eigs, 100,100,100, 1]\n",
    "args = (layers,)\n",
    "model.architecture(MLP, *args, init_key=init_key)"
   ]
  },
  {
   "cell_type": "code",
   "execution_count": 13,
   "metadata": {},
   "outputs": [],
   "source": [
    "# Setup optimizer\n",
    "saved_state = None\n",
    "learning_rate = optimizers.exponential_decay(1e-3, decay_steps=100, decay_rate=0.99)\n",
    "args = (learning_rate, model.loss)\n",
    "model.optimizer(adam, *args, saved_state=saved_state)"
   ]
  },
  {
   "cell_type": "code",
   "execution_count": 14,
   "metadata": {},
   "outputs": [],
   "source": [
    "# Setup logger\n",
    "io_keys = ['loss','loss_u','loss_r']\n",
    "log_keys = ['loss','loss_u','loss_r']\n",
    "log_funs = [model.loss, model.loss_u, model.loss_r]\n",
    "args = (io_keys, log_keys, log_funs)\n",
    "model.logger(logger, *args, io_step = 200)"
   ]
  },
  {
   "cell_type": "code",
   "execution_count": 15,
   "metadata": {},
   "outputs": [
    {
     "name": "stderr",
     "output_type": "stream",
     "text": [
      "100%|██████████| 50000/50000 [04:33<00:00, 182.57it/s, loss=4.922290199410376e-06, loss_u=1.6814337083141628e-06, loss_r=3.2408564910962128e-06] \n"
     ]
    }
   ],
   "source": [
    "# Train\n",
    "#validation_data = (X_star, u_star)\n",
    "model.train(dataset, nIter = 50000, ntk_weights = False)"
   ]
  },
  {
   "cell_type": "code",
   "execution_count": 16,
   "metadata": {},
   "outputs": [
    {
     "name": "stdout",
     "output_type": "stream",
     "text": [
      "0.001133006699631023\n"
     ]
    },
    {
     "data": {
      "image/png": "[encoded data removed]",
      "text/plain": [
       "<Figure size 432x288 with 1 Axes>"
      ]
     },
     "metadata": {
      "needs_background": "light"
     },
     "output_type": "display_data"
    }
   ],
   "source": [
    "opt_params = model.get_params(model.opt_state)\n",
    "u_pred = model.predict(opt_params, eigfuncs)\n",
    "\n",
    "MSE = np.mean(((Y_true - mu_y)/sigma_y - u_pred)**2)\n",
    "plt.plot((Y_true - mu_y)/sigma_y , u_pred,'.')\n",
    "#plt.scatter(Y , Y, c = 'r', zorder = 100, label = 'data')\n",
    "plt.xlabel('ground truth')\n",
    "plt.ylabel('predicted')\n",
    "plt.title('chain rule gradients, MSE = %f' % MSE )\n",
    "print(MSE)\n",
    "#plt.savefig('../output/coil_1.2_MM_chainrulegrad.png')"
   ]
  },
  {
   "cell_type": "code",
   "execution_count": 17,
   "metadata": {},
   "outputs": [
    {
     "data": {
      "image/png": "[encoded data removed]",
      "text/plain": [
       "<Figure size 720x360 with 4 Axes>"
      ]
     },
     "metadata": {
      "needs_background": "light"
     },
     "output_type": "display_data"
    }
   ],
   "source": [
    "fig = plt.figure()\n",
    "fig.set_size_inches((10,5))\n",
    "\n",
    "plt.subplot(121)\n",
    "plt.tricontourf(verts[:,0], verts[:,1], connectivity, u_pred*sigma_y + mu_y,  np.linspace(0.4,1.001,20), cmap = plt.cm.plasma)\n",
    "plt.colorbar()\n",
    "#plt.scatter(verts[idx_train,0], verts[idx_train,1])\n",
    "plt.axis('equal')\n",
    "plt.axis('off')\n",
    "\n",
    "plt.subplot(122)\n",
    "plt.tricontourf(verts[:,0], verts[:,1], connectivity, Y_true, np.linspace(0.4,1,20), cmap = plt.cm.plasma)\n",
    "plt.colorbar()\n",
    "\n",
    "plt.plot(verts[~boundary_mask,0], verts[~boundary_mask,1],'k.')\n",
    "plt.axis('equal')\n",
    "plt.axis('off')\n",
    "\n",
    "\n",
    "plt.tight_layout()\n",
    "\n",
    "#plt.savefig('../output/LaplacePINNs_numheat.pdf')"
   ]
  },
  {
   "cell_type": "code",
   "execution_count": null,
   "metadata": {},
   "outputs": [],
   "source": []
  }
 ],
 "metadata": {
  "kernelspec": {
   "display_name": "Python 3.9.12 ('base')",
   "language": "python",
   "name": "python3"
  },
  "language_info": {
   "codemirror_mode": {
    "name": "ipython",
    "version": 3
   },
   "file_extension": ".py",
   "mimetype": "text/x-python",
   "name": "python",
   "nbconvert_exporter": "python",
   "pygments_lexer": "ipython3",
   "version": "3.9.12"
  },
  "orig_nbformat": 4,
  "vscode": {
   "interpreter": {
    "hash": "6d3f1dc893a8cdcb0dc987a33746dca0083c59eec8676dfdbb325e28f960c458"
   }
  }
 },
 "nbformat": 4,
 "nbformat_minor": 2
}
